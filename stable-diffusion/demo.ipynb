{
 "cells": [
  {
   "cell_type": "code",
   "execution_count": 3,
   "metadata": {},
   "outputs": [
    {
     "name": "stderr",
     "output_type": "stream",
     "text": [
      "c:\\Miniconda\\envs\\stable_diffusion\\Lib\\site-packages\\tqdm\\auto.py:21: TqdmWarning: IProgress not found. Please update jupyter and ipywidgets. See https://ipywidgets.readthedocs.io/en/stable/user_install.html\n",
      "  from .autonotebook import tqdm as notebook_tqdm\n"
     ]
    },
    {
     "name": "stdout",
     "output_type": "stream",
     "text": [
      "Using device: cpu\n"
     ]
    },
    {
     "ename": "RuntimeError",
     "evalue": "Error(s) in loading state_dict for VAE_Encoder:\n\tMissing key(s) in state_dict: \"1.group_norm1.weight\", \"1.group_norm1.bias\", \"1.conv1.weight\", \"1.conv1.bias\", \"1.group_norm2.weight\", \"1.group_norm2.bias\", \"1.conv2.weight\", \"1.conv2.bias\", \"2.group_norm1.weight\", \"2.group_norm1.bias\", \"2.conv1.weight\", \"2.conv1.bias\", \"2.group_norm2.weight\", \"2.group_norm2.bias\", \"2.conv2.weight\", \"2.conv2.bias\", \"4.group_norm1.weight\", \"4.group_norm1.bias\", \"4.conv1.weight\", \"4.conv1.bias\", \"4.group_norm2.weight\", \"4.group_norm2.bias\", \"4.conv2.weight\", \"4.conv2.bias\", \"5.group_norm1.weight\", \"5.group_norm1.bias\", \"5.conv1.weight\", \"5.conv1.bias\", \"5.group_norm2.weight\", \"5.group_norm2.bias\", \"5.conv2.weight\", \"5.conv2.bias\", \"7.group_norm1.weight\", \"7.group_norm1.bias\", \"7.conv1.weight\", \"7.conv1.bias\", \"7.group_norm2.weight\", \"7.group_norm2.bias\", \"7.conv2.weight\", \"7.conv2.bias\", \"8.group_norm1.weight\", \"8.group_norm1.bias\", \"8.conv1.weight\", \"8.conv1.bias\", \"8.group_norm2.weight\", \"8.group_norm2.bias\", \"8.conv2.weight\", \"8.conv2.bias\", \"10.group_norm1.weight\", \"10.group_norm1.bias\", \"10.conv1.weight\", \"10.conv1.bias\", \"10.group_norm2.weight\", \"10.group_norm2.bias\", \"10.conv2.weight\", \"10.conv2.bias\", \"11.group_norm1.weight\", \"11.group_norm1.bias\", \"11.conv1.weight\", \"11.conv1.bias\", \"11.group_norm2.weight\", \"11.group_norm2.bias\", \"11.conv2.weight\", \"11.conv2.bias\", \"12.group_norm1.weight\", \"12.group_norm1.bias\", \"12.conv1.weight\", \"12.conv1.bias\", \"12.group_norm2.weight\", \"12.group_norm2.bias\", \"12.conv2.weight\", \"12.conv2.bias\", \"13.attention.input_proj.weight\", \"13.attention.input_proj.bias\", \"13.attention.output_proj.weight\", \"13.attention.output_proj.bias\", \"14.group_norm1.weight\", \"14.group_norm1.bias\", \"14.conv1.weight\", \"14.conv1.bias\", \"14.group_norm2.weight\", \"14.group_norm2.bias\", \"14.conv2.weight\", \"14.conv2.bias\". \n\tUnexpected key(s) in state_dict: \"1.groupnorm_1.weight\", \"1.groupnorm_1.bias\", \"1.conv_1.weight\", \"1.conv_1.bias\", \"1.groupnorm_2.weight\", \"1.groupnorm_2.bias\", \"1.conv_2.weight\", \"1.conv_2.bias\", \"2.groupnorm_1.weight\", \"2.groupnorm_1.bias\", \"2.conv_1.weight\", \"2.conv_1.bias\", \"2.groupnorm_2.weight\", \"2.groupnorm_2.bias\", \"2.conv_2.weight\", \"2.conv_2.bias\", \"4.groupnorm_1.weight\", \"4.groupnorm_1.bias\", \"4.conv_1.weight\", \"4.conv_1.bias\", \"4.groupnorm_2.weight\", \"4.groupnorm_2.bias\", \"4.conv_2.weight\", \"4.conv_2.bias\", \"5.groupnorm_1.weight\", \"5.groupnorm_1.bias\", \"5.conv_1.weight\", \"5.conv_1.bias\", \"5.groupnorm_2.weight\", \"5.groupnorm_2.bias\", \"5.conv_2.weight\", \"5.conv_2.bias\", \"7.groupnorm_1.weight\", \"7.groupnorm_1.bias\", \"7.conv_1.weight\", \"7.conv_1.bias\", \"7.groupnorm_2.weight\", \"7.groupnorm_2.bias\", \"7.conv_2.weight\", \"7.conv_2.bias\", \"8.groupnorm_1.weight\", \"8.groupnorm_1.bias\", \"8.conv_1.weight\", \"8.conv_1.bias\", \"8.groupnorm_2.weight\", \"8.groupnorm_2.bias\", \"8.conv_2.weight\", \"8.conv_2.bias\", \"10.groupnorm_1.weight\", \"10.groupnorm_1.bias\", \"10.conv_1.weight\", \"10.conv_1.bias\", \"10.groupnorm_2.weight\", \"10.groupnorm_2.bias\", \"10.conv_2.weight\", \"10.conv_2.bias\", \"11.groupnorm_1.weight\", \"11.groupnorm_1.bias\", \"11.conv_1.weight\", \"11.conv_1.bias\", \"11.groupnorm_2.weight\", \"11.groupnorm_2.bias\", \"11.conv_2.weight\", \"11.conv_2.bias\", \"12.groupnorm_1.weight\", \"12.groupnorm_1.bias\", \"12.conv_1.weight\", \"12.conv_1.bias\", \"12.groupnorm_2.weight\", \"12.groupnorm_2.bias\", \"12.conv_2.weight\", \"12.conv_2.bias\", \"13.attention.out_proj.bias\", \"13.attention.in_proj.weight\", \"13.attention.in_proj.bias\", \"13.attention.out_proj.weight\", \"14.groupnorm_1.weight\", \"14.groupnorm_1.bias\", \"14.conv_1.weight\", \"14.conv_1.bias\", \"14.groupnorm_2.weight\", \"14.groupnorm_2.bias\", \"14.conv_2.weight\", \"14.conv_2.bias\". ",
     "output_type": "error",
     "traceback": [
      "\u001b[1;31m---------------------------------------------------------------------------\u001b[0m",
      "\u001b[1;31mRuntimeError\u001b[0m                              Traceback (most recent call last)",
      "\u001b[1;32mc:\\Users\\Saurabh Patil\\Desktop\\Stable_Diffusion\\stable-diffusion\\demo.ipynb Cell 1\u001b[0m line \u001b[0;36m2\n\u001b[0;32m     <a href='vscode-notebook-cell:/c%3A/Users/Saurabh%20Patil/Desktop/Stable_Diffusion/stable-diffusion/demo.ipynb#W0sZmlsZQ%3D%3D?line=18'>19</a>\u001b[0m tokenizer \u001b[39m=\u001b[39m CLIPTokenizer(\u001b[39m\"\u001b[39m\u001b[39m../data/vocab.json\u001b[39m\u001b[39m\"\u001b[39m, merges_file\u001b[39m=\u001b[39m\u001b[39m\"\u001b[39m\u001b[39m../data/merges.txt\u001b[39m\u001b[39m\"\u001b[39m)\n\u001b[0;32m     <a href='vscode-notebook-cell:/c%3A/Users/Saurabh%20Patil/Desktop/Stable_Diffusion/stable-diffusion/demo.ipynb#W0sZmlsZQ%3D%3D?line=19'>20</a>\u001b[0m model_file \u001b[39m=\u001b[39m \u001b[39m\"\u001b[39m\u001b[39m../data/Inkpunk-Diffusion-v2.ckpt\u001b[39m\u001b[39m\"\u001b[39m\n\u001b[1;32m---> <a href='vscode-notebook-cell:/c%3A/Users/Saurabh%20Patil/Desktop/Stable_Diffusion/stable-diffusion/demo.ipynb#W0sZmlsZQ%3D%3D?line=20'>21</a>\u001b[0m models \u001b[39m=\u001b[39m model_loader\u001b[39m.\u001b[39;49mpreload_models_from_standard_weights(model_file, DEVICE)\n\u001b[0;32m     <a href='vscode-notebook-cell:/c%3A/Users/Saurabh%20Patil/Desktop/Stable_Diffusion/stable-diffusion/demo.ipynb#W0sZmlsZQ%3D%3D?line=22'>23</a>\u001b[0m \u001b[39m## TEXT TO IMAGE\u001b[39;00m\n\u001b[0;32m     <a href='vscode-notebook-cell:/c%3A/Users/Saurabh%20Patil/Desktop/Stable_Diffusion/stable-diffusion/demo.ipynb#W0sZmlsZQ%3D%3D?line=23'>24</a>\u001b[0m \n\u001b[0;32m     <a href='vscode-notebook-cell:/c%3A/Users/Saurabh%20Patil/Desktop/Stable_Diffusion/stable-diffusion/demo.ipynb#W0sZmlsZQ%3D%3D?line=24'>25</a>\u001b[0m \u001b[39m# prompt = \"A dog with sunglasses, wearing comfy hat, looking at camera, highly detailed, ultra sharp, cinematic, 100mm lens, 8k resolution.\"\u001b[39;00m\n\u001b[0;32m     <a href='vscode-notebook-cell:/c%3A/Users/Saurabh%20Patil/Desktop/Stable_Diffusion/stable-diffusion/demo.ipynb#W0sZmlsZQ%3D%3D?line=25'>26</a>\u001b[0m prompt \u001b[39m=\u001b[39m \u001b[39m\"\u001b[39m\u001b[39mA cat stretching on the floor\u001b[39m\u001b[39m\"\u001b[39m\n",
      "File \u001b[1;32mc:\\Users\\Saurabh Patil\\Desktop\\Stable_Diffusion\\stable-diffusion\\model_loader.py:12\u001b[0m, in \u001b[0;36mpreload_models_from_standard_weights\u001b[1;34m(ckpt_path, device)\u001b[0m\n\u001b[0;32m      9\u001b[0m state_dict \u001b[39m=\u001b[39m model_converter\u001b[39m.\u001b[39mload_from_standard_weights(ckpt_path, device)\n\u001b[0;32m     11\u001b[0m encoder \u001b[39m=\u001b[39m VAE_Encoder()\u001b[39m.\u001b[39mto(device)\n\u001b[1;32m---> 12\u001b[0m encoder\u001b[39m.\u001b[39;49mload_state_dict(state_dict[\u001b[39m'\u001b[39;49m\u001b[39mencoder\u001b[39;49m\u001b[39m'\u001b[39;49m], strict\u001b[39m=\u001b[39;49m\u001b[39mTrue\u001b[39;49;00m)\n\u001b[0;32m     14\u001b[0m decoder \u001b[39m=\u001b[39m VAE_Decoder()\u001b[39m.\u001b[39mto(device)\n\u001b[0;32m     15\u001b[0m decoder\u001b[39m.\u001b[39mload_state_dict(state_dict[\u001b[39m'\u001b[39m\u001b[39mdecoder\u001b[39m\u001b[39m'\u001b[39m], strict\u001b[39m=\u001b[39m\u001b[39mTrue\u001b[39;00m)\n",
      "File \u001b[1;32mc:\\Miniconda\\envs\\stable_diffusion\\Lib\\site-packages\\torch\\nn\\modules\\module.py:2041\u001b[0m, in \u001b[0;36mModule.load_state_dict\u001b[1;34m(self, state_dict, strict)\u001b[0m\n\u001b[0;32m   2036\u001b[0m         error_msgs\u001b[39m.\u001b[39minsert(\n\u001b[0;32m   2037\u001b[0m             \u001b[39m0\u001b[39m, \u001b[39m'\u001b[39m\u001b[39mMissing key(s) in state_dict: \u001b[39m\u001b[39m{}\u001b[39;00m\u001b[39m. \u001b[39m\u001b[39m'\u001b[39m\u001b[39m.\u001b[39mformat(\n\u001b[0;32m   2038\u001b[0m                 \u001b[39m'\u001b[39m\u001b[39m, \u001b[39m\u001b[39m'\u001b[39m\u001b[39m.\u001b[39mjoin(\u001b[39m'\u001b[39m\u001b[39m\"\u001b[39m\u001b[39m{}\u001b[39;00m\u001b[39m\"\u001b[39m\u001b[39m'\u001b[39m\u001b[39m.\u001b[39mformat(k) \u001b[39mfor\u001b[39;00m k \u001b[39min\u001b[39;00m missing_keys)))\n\u001b[0;32m   2040\u001b[0m \u001b[39mif\u001b[39;00m \u001b[39mlen\u001b[39m(error_msgs) \u001b[39m>\u001b[39m \u001b[39m0\u001b[39m:\n\u001b[1;32m-> 2041\u001b[0m     \u001b[39mraise\u001b[39;00m \u001b[39mRuntimeError\u001b[39;00m(\u001b[39m'\u001b[39m\u001b[39mError(s) in loading state_dict for \u001b[39m\u001b[39m{}\u001b[39;00m\u001b[39m:\u001b[39m\u001b[39m\\n\u001b[39;00m\u001b[39m\\t\u001b[39;00m\u001b[39m{}\u001b[39;00m\u001b[39m'\u001b[39m\u001b[39m.\u001b[39mformat(\n\u001b[0;32m   2042\u001b[0m                        \u001b[39mself\u001b[39m\u001b[39m.\u001b[39m\u001b[39m__class__\u001b[39m\u001b[39m.\u001b[39m\u001b[39m__name__\u001b[39m, \u001b[39m\"\u001b[39m\u001b[39m\\n\u001b[39;00m\u001b[39m\\t\u001b[39;00m\u001b[39m\"\u001b[39m\u001b[39m.\u001b[39mjoin(error_msgs)))\n\u001b[0;32m   2043\u001b[0m \u001b[39mreturn\u001b[39;00m _IncompatibleKeys(missing_keys, unexpected_keys)\n",
      "\u001b[1;31mRuntimeError\u001b[0m: Error(s) in loading state_dict for VAE_Encoder:\n\tMissing key(s) in state_dict: \"1.group_norm1.weight\", \"1.group_norm1.bias\", \"1.conv1.weight\", \"1.conv1.bias\", \"1.group_norm2.weight\", \"1.group_norm2.bias\", \"1.conv2.weight\", \"1.conv2.bias\", \"2.group_norm1.weight\", \"2.group_norm1.bias\", \"2.conv1.weight\", \"2.conv1.bias\", \"2.group_norm2.weight\", \"2.group_norm2.bias\", \"2.conv2.weight\", \"2.conv2.bias\", \"4.group_norm1.weight\", \"4.group_norm1.bias\", \"4.conv1.weight\", \"4.conv1.bias\", \"4.group_norm2.weight\", \"4.group_norm2.bias\", \"4.conv2.weight\", \"4.conv2.bias\", \"5.group_norm1.weight\", \"5.group_norm1.bias\", \"5.conv1.weight\", \"5.conv1.bias\", \"5.group_norm2.weight\", \"5.group_norm2.bias\", \"5.conv2.weight\", \"5.conv2.bias\", \"7.group_norm1.weight\", \"7.group_norm1.bias\", \"7.conv1.weight\", \"7.conv1.bias\", \"7.group_norm2.weight\", \"7.group_norm2.bias\", \"7.conv2.weight\", \"7.conv2.bias\", \"8.group_norm1.weight\", \"8.group_norm1.bias\", \"8.conv1.weight\", \"8.conv1.bias\", \"8.group_norm2.weight\", \"8.group_norm2.bias\", \"8.conv2.weight\", \"8.conv2.bias\", \"10.group_norm1.weight\", \"10.group_norm1.bias\", \"10.conv1.weight\", \"10.conv1.bias\", \"10.group_norm2.weight\", \"10.group_norm2.bias\", \"10.conv2.weight\", \"10.conv2.bias\", \"11.group_norm1.weight\", \"11.group_norm1.bias\", \"11.conv1.weight\", \"11.conv1.bias\", \"11.group_norm2.weight\", \"11.group_norm2.bias\", \"11.conv2.weight\", \"11.conv2.bias\", \"12.group_norm1.weight\", \"12.group_norm1.bias\", \"12.conv1.weight\", \"12.conv1.bias\", \"12.group_norm2.weight\", \"12.group_norm2.bias\", \"12.conv2.weight\", \"12.conv2.bias\", \"13.attention.input_proj.weight\", \"13.attention.input_proj.bias\", \"13.attention.output_proj.weight\", \"13.attention.output_proj.bias\", \"14.group_norm1.weight\", \"14.group_norm1.bias\", \"14.conv1.weight\", \"14.conv1.bias\", \"14.group_norm2.weight\", \"14.group_norm2.bias\", \"14.conv2.weight\", \"14.conv2.bias\". \n\tUnexpected key(s) in state_dict: \"1.groupnorm_1.weight\", \"1.groupnorm_1.bias\", \"1.conv_1.weight\", \"1.conv_1.bias\", \"1.groupnorm_2.weight\", \"1.groupnorm_2.bias\", \"1.conv_2.weight\", \"1.conv_2.bias\", \"2.groupnorm_1.weight\", \"2.groupnorm_1.bias\", \"2.conv_1.weight\", \"2.conv_1.bias\", \"2.groupnorm_2.weight\", \"2.groupnorm_2.bias\", \"2.conv_2.weight\", \"2.conv_2.bias\", \"4.groupnorm_1.weight\", \"4.groupnorm_1.bias\", \"4.conv_1.weight\", \"4.conv_1.bias\", \"4.groupnorm_2.weight\", \"4.groupnorm_2.bias\", \"4.conv_2.weight\", \"4.conv_2.bias\", \"5.groupnorm_1.weight\", \"5.groupnorm_1.bias\", \"5.conv_1.weight\", \"5.conv_1.bias\", \"5.groupnorm_2.weight\", \"5.groupnorm_2.bias\", \"5.conv_2.weight\", \"5.conv_2.bias\", \"7.groupnorm_1.weight\", \"7.groupnorm_1.bias\", \"7.conv_1.weight\", \"7.conv_1.bias\", \"7.groupnorm_2.weight\", \"7.groupnorm_2.bias\", \"7.conv_2.weight\", \"7.conv_2.bias\", \"8.groupnorm_1.weight\", \"8.groupnorm_1.bias\", \"8.conv_1.weight\", \"8.conv_1.bias\", \"8.groupnorm_2.weight\", \"8.groupnorm_2.bias\", \"8.conv_2.weight\", \"8.conv_2.bias\", \"10.groupnorm_1.weight\", \"10.groupnorm_1.bias\", \"10.conv_1.weight\", \"10.conv_1.bias\", \"10.groupnorm_2.weight\", \"10.groupnorm_2.bias\", \"10.conv_2.weight\", \"10.conv_2.bias\", \"11.groupnorm_1.weight\", \"11.groupnorm_1.bias\", \"11.conv_1.weight\", \"11.conv_1.bias\", \"11.groupnorm_2.weight\", \"11.groupnorm_2.bias\", \"11.conv_2.weight\", \"11.conv_2.bias\", \"12.groupnorm_1.weight\", \"12.groupnorm_1.bias\", \"12.conv_1.weight\", \"12.conv_1.bias\", \"12.groupnorm_2.weight\", \"12.groupnorm_2.bias\", \"12.conv_2.weight\", \"12.conv_2.bias\", \"13.attention.out_proj.bias\", \"13.attention.in_proj.weight\", \"13.attention.in_proj.bias\", \"13.attention.out_proj.weight\", \"14.groupnorm_1.weight\", \"14.groupnorm_1.bias\", \"14.conv_1.weight\", \"14.conv_1.bias\", \"14.groupnorm_2.weight\", \"14.groupnorm_2.bias\", \"14.conv_2.weight\", \"14.conv_2.bias\". "
     ]
    }
   ],
   "source": [
    "import model_loader\n",
    "import pipeline\n",
    "from PIL import Image\n",
    "from pathlib import Path\n",
    "from transformers import CLIPTokenizer\n",
    "import torch\n",
    "\n",
    "DEVICE = \"cpu\"\n",
    "\n",
    "ALLOW_CUDA = False\n",
    "ALLOW_MPS = False\n",
    "\n",
    "if torch.cuda.is_available() and ALLOW_CUDA:\n",
    "    DEVICE = \"cuda\"\n",
    "elif (torch.has_mps or torch.backends.mps.is_available()) and ALLOW_MPS:\n",
    "    DEVICE = \"mps\"\n",
    "print(f\"Using device: {DEVICE}\")\n",
    "\n",
    "tokenizer = CLIPTokenizer(\"../data/vocab.json\", merges_file=\"../data/merges.txt\")\n",
    "model_file = \"../data/Inkpunk-Diffusion-v2.ckpt\"\n",
    "models = model_loader.preload_models_from_standard_weights(model_file, DEVICE)\n",
    "\n",
    "## TEXT TO IMAGE\n",
    "\n",
    "# prompt = \"A dog with sunglasses, wearing comfy hat, looking at camera, highly detailed, ultra sharp, cinematic, 100mm lens, 8k resolution.\"\n",
    "prompt = \"A cat stretching on the floor\"\n",
    "uncond_prompt = \"\"  # Also known as negative prompt\n",
    "do_cfg = True\n",
    "cfg_scale = 8  # min: 1, max: 14\n",
    "\n",
    "## IMAGE TO IMAGE\n",
    "\n",
    "input_image = None\n",
    "# Comment to disable image to image\n",
    "image_path = \"../images/dog.jpg\"\n",
    "# input_image = Image.open(image_path)\n",
    "# Higher values means more noise will be added to the input image, so the result will further from the input image.\n",
    "# Lower values means less noise is added to the input image, so output will be closer to the input image.\n",
    "strength = 0.9\n",
    "\n",
    "## SAMPLER\n",
    "\n",
    "sampler = \"ddpm\"\n",
    "num_inference_steps = 50\n",
    "seed = 42\n",
    "\n",
    "output_image = pipeline.generate(\n",
    "    prompt=prompt,\n",
    "    uncond_prompt=uncond_prompt,\n",
    "    input_image=input_image,\n",
    "    strength=strength,\n",
    "    do_cfg=do_cfg,\n",
    "    cfg_scale=cfg_scale,\n",
    "    sampler_name=sampler,\n",
    "    n_inference_steps=num_inference_steps,\n",
    "    seed=seed,\n",
    "    models=models,\n",
    "    device=DEVICE,\n",
    "    idle_device=\"cpu\",\n",
    "    tokenizer=tokenizer,\n",
    ")\n",
    "\n",
    "# Combine the input image and the output image into a single image.\n",
    "Image.fromarray(output_image)"
   ]
  },
  {
   "cell_type": "code",
   "execution_count": null,
   "metadata": {},
   "outputs": [],
   "source": []
  }
 ],
 "metadata": {
  "kernelspec": {
   "display_name": "stable_diffusion",
   "language": "python",
   "name": "python3"
  },
  "language_info": {
   "codemirror_mode": {
    "name": "ipython",
    "version": 3
   },
   "file_extension": ".py",
   "mimetype": "text/x-python",
   "name": "python",
   "nbconvert_exporter": "python",
   "pygments_lexer": "ipython3",
   "version": "3.11.5"
  },
  "orig_nbformat": 4
 },
 "nbformat": 4,
 "nbformat_minor": 2
}
